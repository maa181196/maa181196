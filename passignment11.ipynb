{
 "cells": [
  {
   "cell_type": "code",
   "execution_count": 1,
   "id": "2d75198d",
   "metadata": {},
   "outputs": [
    {
     "name": "stdout",
     "output_type": "stream",
     "text": [
      "Python\n",
      "good\n"
     ]
    }
   ],
   "source": [
    "#1. Write a Python program to find words which are greater than given length k?\n",
    "def word_k(k, s):    \n",
    "    word = s.split(\" \")\n",
    "    for x in word:\n",
    "        if len(x)>k:\n",
    "          print(x)\n",
    "k = 3\n",
    "s =\"Python is good\"\n",
    "word_k(k, s)"
   ]
  },
  {
   "cell_type": "code",
   "execution_count": 3,
   "id": "0e3d37d9",
   "metadata": {},
   "outputs": [],
   "source": [
    "#2. Write a Python program for removing i-th character from a string?\n",
    "def ith_index(s,k):\n",
    "    s=s.replace(s[k],\"\")\n",
    "    return s\n",
    "    "
   ]
  },
  {
   "cell_type": "code",
   "execution_count": 5,
   "id": "1e75b814",
   "metadata": {},
   "outputs": [
    {
     "data": {
      "text/plain": [
       "'adfsdasdsadfha'"
      ]
     },
     "execution_count": 5,
     "metadata": {},
     "output_type": "execute_result"
    }
   ],
   "source": [
    "k='adfsdgasdgsadfha'\n",
    "ith_index(k,5)"
   ]
  },
  {
   "cell_type": "code",
   "execution_count": 1,
   "id": "b170647c",
   "metadata": {},
   "outputs": [],
   "source": [
    "#3. Write a Python program to split and join a string?\n",
    "def split_strint(s,k):\n",
    "    for i in s:\n",
    "        if i==k:\n",
    "            c=s.index(i)\n",
    "            b=\";\"\n",
    "            s=s[:c]+b+s[c:]\n",
    "    print(s)"
   ]
  },
  {
   "cell_type": "code",
   "execution_count": 3,
   "id": "dd28102e",
   "metadata": {},
   "outputs": [
    {
     "name": "stdout",
     "output_type": "stream",
     "text": [
      ";;;sdfhgsdyhgdstjrtary\n"
     ]
    }
   ],
   "source": [
    "split_strint(\"sdfhgsdyhgdstjrtary\",\"s\")"
   ]
  },
  {
   "cell_type": "code",
   "execution_count": 10,
   "id": "4aa3a11e",
   "metadata": {},
   "outputs": [
    {
     "name": "stdout",
     "output_type": "stream",
     "text": [
      "['fsgdhfjghfgdsfhsgjhfgda']\n"
     ]
    }
   ],
   "source": [
    "s='fsgdhfjghfgdsfhsgjhfgda'\n",
    "a=s.split()\n",
    "print(a)"
   ]
  },
  {
   "cell_type": "code",
   "execution_count": null,
   "id": "030a8535",
   "metadata": {},
   "outputs": [],
   "source": []
  }
 ],
 "metadata": {
  "kernelspec": {
   "display_name": "Python 3 (ipykernel)",
   "language": "python",
   "name": "python3"
  },
  "language_info": {
   "codemirror_mode": {
    "name": "ipython",
    "version": 3
   },
   "file_extension": ".py",
   "mimetype": "text/x-python",
   "name": "python",
   "nbconvert_exporter": "python",
   "pygments_lexer": "ipython3",
   "version": "3.9.7"
  }
 },
 "nbformat": 4,
 "nbformat_minor": 5
}
