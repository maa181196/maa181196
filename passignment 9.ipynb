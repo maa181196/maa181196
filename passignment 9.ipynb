{
 "cells": [
  {
   "cell_type": "code",
   "execution_count": 31,
   "id": "c88db957",
   "metadata": {},
   "outputs": [],
   "source": [
    "#1. Write a Python program to check if the given number is a Disarium Number?\n",
    "def check_disarium(number):\n",
    "    a=str(number)\n",
    "    sum=0\n",
    "    d=1\n",
    "    for i in a:\n",
    "        b=int(i)\n",
    "        sum +=b**d\n",
    "        d=d+1\n",
    "    if sum ==number:\n",
    "        return True \n",
    "    else:\n",
    "        return False, number\n",
    "        \n",
    "        "
   ]
  },
  {
   "cell_type": "code",
   "execution_count": 39,
   "id": "c858fc2c",
   "metadata": {},
   "outputs": [
    {
     "data": {
      "text/plain": [
       "True"
      ]
     },
     "execution_count": 39,
     "metadata": {},
     "output_type": "execute_result"
    }
   ],
   "source": [
    "check_disarium(9)"
   ]
  },
  {
   "cell_type": "code",
   "execution_count": 45,
   "id": "b3f5b711",
   "metadata": {},
   "outputs": [
    {
     "name": "stdout",
     "output_type": "stream",
     "text": [
      "[1, 2, 3, 4, 5, 6, 7, 8, 9, 89]\n"
     ]
    }
   ],
   "source": [
    "#2.Write a Python program to print all disarium numbers between 1 to 100?\n",
    "number=[]\n",
    "for i in range(1,101):\n",
    "    if check_disarium(i)==True:\n",
    "        number.append(i)\n",
    "    else:\n",
    "        pass\n",
    "print(number)"
   ]
  },
  {
   "cell_type": "code",
   "execution_count": 42,
   "id": "a819814a",
   "metadata": {},
   "outputs": [],
   "source": [
    "#3. Write a Python program to check if the given number is Happy Number?\n",
    "def happy_numbers(n):\n",
    "    past = set()\n",
    "    while n != 1:\n",
    "        n = sum(int(i)**2 for i in str(n))\n",
    "        if n in past:\n",
    "            return False\n",
    "        past.add(n)\n",
    "    return True\n",
    "    "
   ]
  },
  {
   "cell_type": "code",
   "execution_count": 44,
   "id": "f0527784",
   "metadata": {},
   "outputs": [
    {
     "data": {
      "text/plain": [
       "False"
      ]
     },
     "execution_count": 44,
     "metadata": {},
     "output_type": "execute_result"
    }
   ],
   "source": [
    "happy_numbers(191)"
   ]
  },
  {
   "cell_type": "code",
   "execution_count": 46,
   "id": "8a5a5c13",
   "metadata": {},
   "outputs": [
    {
     "name": "stdout",
     "output_type": "stream",
     "text": [
      "[1, 7, 10, 13, 19, 23, 28, 31, 32, 44, 49, 68, 70, 79, 82, 86, 91, 94, 97, 100]\n"
     ]
    }
   ],
   "source": [
    "#4 Write a Python program to print all happy numbers between 1 and 100?\n",
    "number=[]\n",
    "for i in range(1,101):\n",
    "    if happy_numbers(i)==True:\n",
    "        number.append(i)\n",
    "    else:\n",
    "        pass\n",
    "print(number)"
   ]
  },
  {
   "cell_type": "code",
   "execution_count": 57,
   "id": "32e5a9fa",
   "metadata": {},
   "outputs": [],
   "source": [
    "#5 Write a Python program to determine whether the given number is a Harshad Number?\n",
    "def Harshad_number(n):\n",
    "    sum =0\n",
    "    for i in str(n):\n",
    "        sum+=int(i)\n",
    "    if n%sum ==0:\n",
    "        return True\n",
    "    else:\n",
    "        return False"
   ]
  },
  {
   "cell_type": "code",
   "execution_count": 59,
   "id": "3e7f78d2",
   "metadata": {},
   "outputs": [
    {
     "data": {
      "text/plain": [
       "False"
      ]
     },
     "execution_count": 59,
     "metadata": {},
     "output_type": "execute_result"
    }
   ],
   "source": [
    "Harshad_number(233)"
   ]
  },
  {
   "cell_type": "code",
   "execution_count": 60,
   "id": "5cd11057",
   "metadata": {},
   "outputs": [
    {
     "name": "stdout",
     "output_type": "stream",
     "text": [
      "Pronic numbers between 1 and 100: \n",
      "2\n",
      " \n",
      "6\n",
      " \n",
      "12\n",
      " \n",
      "20\n",
      " \n",
      "30\n",
      " \n",
      "42\n",
      " \n",
      "56\n",
      " \n",
      "72\n",
      " \n",
      "90\n",
      " \n"
     ]
    }
   ],
   "source": [
    "#6. Write a Python program to print all pronic numbers between 1 and 100?\n",
    "def isPronicNumber(num):    \n",
    "    flag = False;    \n",
    "        \n",
    "    for j in range(1, num+1):       \n",
    "        if((j*(j+1)) == num):    \n",
    "            flag = True;    \n",
    "            break;    \n",
    "    return flag;       \n",
    "print(\"Pronic numbers between 1 and 100: \");    \n",
    "for i in range(1, 101):    \n",
    "    if(isPronicNumber(i)):    \n",
    "        print(i),    \n",
    "        print(\" \"), \n",
    "    \n",
    "    \n"
   ]
  },
  {
   "cell_type": "code",
   "execution_count": null,
   "id": "a61c95bb",
   "metadata": {},
   "outputs": [],
   "source": []
  }
 ],
 "metadata": {
  "kernelspec": {
   "display_name": "Python 3 (ipykernel)",
   "language": "python",
   "name": "python3"
  },
  "language_info": {
   "codemirror_mode": {
    "name": "ipython",
    "version": 3
   },
   "file_extension": ".py",
   "mimetype": "text/x-python",
   "name": "python",
   "nbconvert_exporter": "python",
   "pygments_lexer": "ipython3",
   "version": "3.9.7"
  }
 },
 "nbformat": 4,
 "nbformat_minor": 5
}
