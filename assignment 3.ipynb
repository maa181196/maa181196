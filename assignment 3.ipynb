{
 "cells": [
  {
   "cell_type": "markdown",
   "id": "98e81a8b",
   "metadata": {},
   "source": [
    "Q1. Why are functions advantageous to have in your programs?    \n",
    "Ans: function provide the scaleblity of the programme and reuseblity of a programme.     \n",
    "   \n",
    "Q.2. When does the code in a function run: when it's specified or when it's called?     \n",
    "Ans: when it's called then function run    \n",
    "Q.3 What statement creates a function?   \n",
    "Ans: def keyword    \n",
    "\n",
    "Q.4 What is the difference between a function and a function call?    \n",
    "ANs: function is body of a code where all the operation that we want to operate is wriiten. it takes inputs and return the outputs that we want to get line by line which is written in body.    \n",
    "function call is just name of function. if we want to add to number we have to just call add function. what do add function it  will return as output.   \n",
    "Q.5 How many global scopes are there in a Python program? How many local scopes?    \n",
    "Ans:there is only one global scopes and there are three local scopes   \n",
    "Q.6 What happens to variables in a local scope when the function call returns?    \n",
    "Ans: When the execution of the function terminates (returns), the local variables are destroyed. Codelens helps you visualize this because the local variables disappear after the function returns     \n",
    "Q.7 What is the concept of a return value? Is it possible to have a return value in an expression?    \n",
    "Ans: concept of return value tells it name itself, when return command executed then it operate the the function and return the the final output what we call in return command. no we can not return value in expression.      \n",
    "Q.8 If a function does not have a return statement, what is the return value of a call to that function?    \n",
    "Ans:  it will return none   \n",
    "Q.9 How do you make a function variable refer to the global variable?    \n",
    "Ans: when the variable is written outside the function it is refer to global variable.    \n",
    "Q.10 What is the data type of None?   \n",
    "Ans: none is the data type its own and it is none only    \n",
    "Q.11 What does the sentence import areallyourpetsnamederic do?  \n",
    "Ans:  it will import areallyourpetsnamederic module    \n",
    "Q.12 If you had a bacon() feature in a spam module, what would you call it after importing spam?    \n",
    "Ans: from bacon import spam      \n",
    "Q.13 What can you do to save a programme from crashing if it encounters an error?   \n",
    "Ans: try and execption handling use. we can write a programme in between try and execpt.     \n",
    "Q.14 What is the purpose of the try clause? What is the purpose of the except clause?   \n",
    "Ans:The try block lets you test a block of code for errors. The except block lets you handle the error  \n",
    "\n",
    "\n",
    "\n",
    "\n",
    "\n",
    " \n",
    "\n",
    "\n",
    "\n",
    "\n",
    " \n",
    "\n",
    "\n",
    "\n"
   ]
  },
  {
   "cell_type": "code",
   "execution_count": 5,
   "id": "fbb77218",
   "metadata": {},
   "outputs": [],
   "source": [
    " import math"
   ]
  },
  {
   "cell_type": "code",
   "execution_count": 8,
   "id": "797004ca",
   "metadata": {},
   "outputs": [],
   "source": [
    "from math import acos"
   ]
  },
  {
   "cell_type": "code",
   "execution_count": 3,
   "id": "8c22c4bf",
   "metadata": {},
   "outputs": [
    {
     "ename": "NameError",
     "evalue": "name 'c' is not defined",
     "output_type": "error",
     "traceback": [
      "\u001b[1;31m---------------------------------------------------------------------------\u001b[0m",
      "\u001b[1;31mNameError\u001b[0m                                 Traceback (most recent call last)",
      "\u001b[1;32m~\\AppData\\Local\\Temp/ipykernel_12272/3235490055.py\u001b[0m in \u001b[0;36m<module>\u001b[1;34m\u001b[0m\n\u001b[1;32m----> 1\u001b[1;33m \u001b[0mc\u001b[0m\u001b[1;33m\u001b[0m\u001b[1;33m\u001b[0m\u001b[0m\n\u001b[0m",
      "\u001b[1;31mNameError\u001b[0m: name 'c' is not defined"
     ]
    }
   ],
   "source": [
    "acos."
   ]
  },
  {
   "cell_type": "code",
   "execution_count": null,
   "id": "c8548f0d",
   "metadata": {},
   "outputs": [],
   "source": []
  }
 ],
 "metadata": {
  "kernelspec": {
   "display_name": "Python 3 (ipykernel)",
   "language": "python",
   "name": "python3"
  },
  "language_info": {
   "codemirror_mode": {
    "name": "ipython",
    "version": 3
   },
   "file_extension": ".py",
   "mimetype": "text/x-python",
   "name": "python",
   "nbconvert_exporter": "python",
   "pygments_lexer": "ipython3",
   "version": "3.9.7"
  }
 },
 "nbformat": 4,
 "nbformat_minor": 5
}
