{
 "cells": [
  {
   "cell_type": "code",
   "execution_count": 44,
   "id": "293d561e",
   "metadata": {},
   "outputs": [],
   "source": [
    "# 1. Write a Python Program to find sum of array?\n",
    "def sumarray(array):\n",
    "    sum =0\n",
    "    try:\n",
    "        for i in array:\n",
    "            if type(i)==int:\n",
    "                sum =sum+i\n",
    "            else:\n",
    "                pass\n",
    "        return sum\n",
    "    except Exception as e:\n",
    "        print(e)\n",
    "    \n",
    "    "
   ]
  },
  {
   "cell_type": "code",
   "execution_count": 45,
   "id": "94646c1a",
   "metadata": {},
   "outputs": [
    {
     "data": {
      "text/plain": [
       "4962"
      ]
     },
     "execution_count": 45,
     "metadata": {},
     "output_type": "execute_result"
    }
   ],
   "source": [
    "\n",
    "sumarray([2,3,4,5,56,6,'upendra',453,4433])"
   ]
  },
  {
   "cell_type": "code",
   "execution_count": 47,
   "id": "ce399716",
   "metadata": {},
   "outputs": [],
   "source": [
    "# 2. Write a Python Program to find largest element in an array?\n",
    "def maxinarray(array):\n",
    "    max=0\n",
    "    for i in array:\n",
    "        if max <= i:\n",
    "            max= i\n",
    "        else:\n",
    "            max=max\n",
    "    return max"
   ]
  },
  {
   "cell_type": "code",
   "execution_count": 51,
   "id": "0439edea",
   "metadata": {},
   "outputs": [
    {
     "data": {
      "text/plain": [
       "1000000000000"
      ]
     },
     "execution_count": 51,
     "metadata": {},
     "output_type": "execute_result"
    }
   ],
   "source": [
    "maxinarray([1000000000000,34,565,545,5,34355,2,35,5,5,2345357431])"
   ]
  },
  {
   "cell_type": "code",
   "execution_count": 72,
   "id": "7db169be",
   "metadata": {},
   "outputs": [],
   "source": [
    "# 3. Write a Python Program for array rotation?\n",
    "def arrayrotation(array):\n",
    "    new_array =[]\n",
    "    for i in range(len(array),0,-1):\n",
    "        new_array.append(array[i-1])\n",
    "    return new_array"
   ]
  },
  {
   "cell_type": "code",
   "execution_count": 73,
   "id": "3f73ecff",
   "metadata": {},
   "outputs": [
    {
     "data": {
      "text/plain": [
       "[6, 6, 5, 4, 2]"
      ]
     },
     "execution_count": 73,
     "metadata": {},
     "output_type": "execute_result"
    }
   ],
   "source": [
    "arrayrotation([2,4,5,6,6])"
   ]
  },
  {
   "cell_type": "code",
   "execution_count": 97,
   "id": "8d36ea99",
   "metadata": {},
   "outputs": [],
   "source": [
    "# 4. Write a Python Program to Split the array and add the first part to the end?\n",
    "def splitarray(array,index):\n",
    "    sum1 =0\n",
    "    sum2=0\n",
    "    array_sum =0\n",
    "    try:\n",
    "        for i in range(index):\n",
    "            if type(array[i])==int:\n",
    "                sum1=sum1+array[i]\n",
    "            else:\n",
    "                pass\n",
    "        for j in range(index,len(array)):\n",
    "            if type(array[j])==int:\n",
    "                sum2=sum2+array[j]\n",
    "            else:\n",
    "                pass\n",
    "        array_sum =sum1+sum2\n",
    "        return array_sum\n",
    "    except Exception as e:\n",
    "        print(e)\n",
    "    "
   ]
  },
  {
   "cell_type": "code",
   "execution_count": 98,
   "id": "64c13eb8",
   "metadata": {},
   "outputs": [
    {
     "data": {
      "text/plain": [
       "12237"
      ]
     },
     "execution_count": 98,
     "metadata": {},
     "output_type": "execute_result"
    }
   ],
   "source": [
    "splitarray([2,3,4,5,6,7,\"upendra\",7,3,5545,454,54,45,54,45,45,34,533,5353,\"fasdhdgs\",35,3],15)"
   ]
  },
  {
   "cell_type": "code",
   "execution_count": 106,
   "id": "2487804e",
   "metadata": {},
   "outputs": [],
   "source": [
    "# 5. Write a Python Program to check if given array is Monotonic?\n",
    "def isMonotonic(A):\n",
    "    return (all(A[i] <= A[i + 1] for i in range(len(A) - 1)) or\n",
    "            all(A[i] >= A[i + 1] for i in range(len(A) - 1)))\n",
    "        \n",
    "        \n",
    "    \n"
   ]
  },
  {
   "cell_type": "code",
   "execution_count": 109,
   "id": "1f7020bb",
   "metadata": {},
   "outputs": [
    {
     "data": {
      "text/plain": [
       "True"
      ]
     },
     "execution_count": 109,
     "metadata": {},
     "output_type": "execute_result"
    }
   ],
   "source": [
    "isMonotonic([1,2,3,4,5,6,7])"
   ]
  },
  {
   "cell_type": "code",
   "execution_count": null,
   "id": "ef7fe5b1",
   "metadata": {},
   "outputs": [],
   "source": []
  },
  {
   "cell_type": "code",
   "execution_count": null,
   "id": "312a6a9a",
   "metadata": {},
   "outputs": [],
   "source": []
  }
 ],
 "metadata": {
  "kernelspec": {
   "display_name": "Python 3 (ipykernel)",
   "language": "python",
   "name": "python3"
  },
  "language_info": {
   "codemirror_mode": {
    "name": "ipython",
    "version": 3
   },
   "file_extension": ".py",
   "mimetype": "text/x-python",
   "name": "python",
   "nbconvert_exporter": "python",
   "pygments_lexer": "ipython3",
   "version": "3.9.7"
  }
 },
 "nbformat": 4,
 "nbformat_minor": 5
}
