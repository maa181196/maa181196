{
 "cells": [
  {
   "cell_type": "code",
   "execution_count": 3,
   "id": "4d3700d6",
   "metadata": {},
   "outputs": [],
   "source": [
    "#Q.1 Write a Python Program to Find LCM?\n",
    "def gcd(a,b):\n",
    "    gcd=[]\n",
    "    for i in range(1,max(a,b)):\n",
    "        if a%i==0 and b%i==0:\n",
    "            gcd.append(i)\n",
    "    return max(gcd)\n",
    "def LCM(a):\n",
    "  lcm = a[0]\n",
    "  for i in range(1,len(a)):\n",
    "    lcm = lcm*a[i]//gcd(lcm, a[i])\n",
    "  return lcm"
   ]
  },
  {
   "cell_type": "code",
   "execution_count": 6,
   "id": "40511319",
   "metadata": {},
   "outputs": [],
   "source": [
    "def find_gcd(x, y):\n",
    "    while(y):\n",
    "        x, y = y, x % y\n",
    "  \n",
    "    return x\n",
    "def HCF(a):\n",
    "    num1=a[0]\n",
    "    num2=a[1]\n",
    "    hcf=find_gcd(num1,num2)\n",
    "    for i in range(2,len(a)):\n",
    "        hcf=find_gcd(hcf,a[i])\n",
    "    return hcf\n",
    "      \n",
    "      \n"
   ]
  },
  {
   "cell_type": "code",
   "execution_count": 7,
   "id": "c3007ead",
   "metadata": {},
   "outputs": [
    {
     "data": {
      "text/plain": [
       "2"
      ]
     },
     "execution_count": 7,
     "metadata": {},
     "output_type": "execute_result"
    }
   ],
   "source": [
    "HCF([2,4,8,10,12])"
   ]
  },
  {
   "cell_type": "code",
   "execution_count": 11,
   "id": "e7177e5c",
   "metadata": {},
   "outputs": [],
   "source": [
    "#Q.3 Write a Python Program to Convert Decimal to Binary, Octal and Hexadecimal?\n",
    "def DecimalToBinary(num):\n",
    "    l=[]\n",
    "    num=num\n",
    "\n",
    "    while num != 1:\n",
    "        l.append(num%2)\n",
    "        num=num//2\n",
    "    l.append(1)\n",
    "    l1= l[::-1]\n",
    "    return ' '.join([str(i) for i in l1])\n",
    "def decimaltoOctal(Num):\n",
    "    octalNum = 0\n",
    "    countval = 1\n",
    "    dNo = Num\n",
    " \n",
    "    while (Num != 0):\n",
    "        remainder = Num % 8\n",
    "        octalNum += remainder * countval\n",
    "        countval = countval * 10\n",
    "        Num //= 8\n",
    "    print(octalNum)\n",
    "conversion_table = {0: '0', 1: '1', 2: '2', 3: '3', 4: '4',\n",
    "                    5: '5', 6: '6', 7: '7',\n",
    "                    8: '8', 9: '9', 10: 'A', 11: 'B', 12: 'C',\n",
    "                    13: 'D', 14: 'E', 15: 'F'}\n",
    "def decimalToHexadecimal(num):\n",
    "    hexadecimal = ''\n",
    "    while(num > 0):\n",
    "        remainder = num % 16\n",
    "        hexadecimal = conversion_table[remainder] + hexadecimal\n",
    "        num = num // 16\n",
    "  \n",
    "    return hexadecimal\n",
    "        \n",
    "     \n",
    "\n",
    "\n",
    "        \n",
    "        \n",
    "            \n",
    "            \n",
    "      \n",
    "            "
   ]
  },
  {
   "cell_type": "code",
   "execution_count": 14,
   "id": "81453894",
   "metadata": {},
   "outputs": [
    {
     "name": "stdout",
     "output_type": "stream",
     "text": [
      "your character23\n",
      "The ASCII value of this character is:  \u0017\n"
     ]
    }
   ],
   "source": [
    "a=int(input('your character'))\n",
    "print('The ASCII value of this character is: ', chr(a))"
   ]
  },
  {
   "cell_type": "code",
   "execution_count": 15,
   "id": "ff8a1f97",
   "metadata": {},
   "outputs": [
    {
     "data": {
      "text/plain": [
       "'11E2'"
      ]
     },
     "execution_count": 15,
     "metadata": {},
     "output_type": "execute_result"
    }
   ],
   "source": [
    "decimalToHexadecimal(4578)"
   ]
  },
  {
   "cell_type": "code",
   "execution_count": 36,
   "id": "247ff65e",
   "metadata": {},
   "outputs": [],
   "source": [
    "#Q.5 Write a Python Program to Make a Simple Calculator with 4 basic mathematical operations?\n",
    "class calculater():\n",
    "    def add(self,*args):\n",
    "        sum=0\n",
    "        for i in args:\n",
    "            sum=sum+i\n",
    "        return sum\n",
    "    def subtract(*args):\n",
    "        subtract =0\n",
    "        for i in args:\n",
    "            subtract=i-subtract\n",
    "            print(subtract)\n",
    "        return subtract\n",
    "    def mutiply(*args):\n",
    "        a=1\n",
    "        for i in args:\n",
    "            a=a*i\n",
    "        return a\n",
    "    def division(a,b):\n",
    "        return (a/b)\n",
    "            "
   ]
  },
  {
   "cell_type": "code",
   "execution_count": 31,
   "id": "ebaa74c8",
   "metadata": {},
   "outputs": [
    {
     "data": {
      "text/plain": [
       "7"
      ]
     },
     "execution_count": 31,
     "metadata": {},
     "output_type": "execute_result"
    }
   ],
   "source": [
    "calculater.add(2,3,4)"
   ]
  },
  {
   "cell_type": "code",
   "execution_count": 32,
   "id": "fd380b9e",
   "metadata": {},
   "outputs": [
    {
     "data": {
      "text/plain": [
       "0.8"
      ]
     },
     "execution_count": 32,
     "metadata": {},
     "output_type": "execute_result"
    }
   ],
   "source": [
    "calculater.division(4,5)"
   ]
  },
  {
   "cell_type": "code",
   "execution_count": 37,
   "id": "9583b1d5",
   "metadata": {},
   "outputs": [
    {
     "name": "stdout",
     "output_type": "stream",
     "text": [
      "3\n",
      "1\n",
      "4\n",
      "1\n"
     ]
    },
    {
     "data": {
      "text/plain": [
       "1"
      ]
     },
     "execution_count": 37,
     "metadata": {},
     "output_type": "execute_result"
    }
   ],
   "source": [
    "calculater.subtract(3,4,5,5)"
   ]
  },
  {
   "cell_type": "code",
   "execution_count": 38,
   "id": "8dfdd507",
   "metadata": {},
   "outputs": [
    {
     "data": {
      "text/plain": [
       "60"
      ]
     },
     "execution_count": 38,
     "metadata": {},
     "output_type": "execute_result"
    }
   ],
   "source": [
    "calculater.mutiply(3,4,5)"
   ]
  },
  {
   "cell_type": "code",
   "execution_count": null,
   "id": "b21569cf",
   "metadata": {},
   "outputs": [],
   "source": []
  },
  {
   "cell_type": "raw",
   "id": "d057b9a5",
   "metadata": {},
   "source": []
  }
 ],
 "metadata": {
  "kernelspec": {
   "display_name": "Python 3 (ipykernel)",
   "language": "python",
   "name": "python3"
  },
  "language_info": {
   "codemirror_mode": {
    "name": "ipython",
    "version": 3
   },
   "file_extension": ".py",
   "mimetype": "text/x-python",
   "name": "python",
   "nbconvert_exporter": "python",
   "pygments_lexer": "ipython3",
   "version": "3.9.7"
  }
 },
 "nbformat": 4,
 "nbformat_minor": 5
}
