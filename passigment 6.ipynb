{
 "cells": [
  {
   "cell_type": "code",
   "execution_count": 5,
   "id": "da794e9e",
   "metadata": {},
   "outputs": [
    {
     "name": "stdout",
     "output_type": "stream",
     "text": [
      "enter yor number: 19\n",
      "Fibonacci series:\n",
      "[1, 1, 2, 3, 5, 8, 13, 21, 34, 55, 89, 144, 233, 377, 610, 987, 1597, 2584]\n"
     ]
    }
   ],
   "source": [
    "#Write a Python Program to Display Fibonacci Sequence Using Recursion?\n",
    "def recursive_fibonacci(n):\n",
    "    if n<1:\n",
    "        return n\n",
    "    else:\n",
    "        return (recursive_fibonacci(n-1)+recursive_fibonacci(n-2))\n",
    "n_terms = int(input(\"enter yor number: \"))\n",
    "if (n_terms <= 0):\n",
    "  print(\"Invalid input\")\n",
    "else:\n",
    "  print(\"Fibonacci series:\")\n",
    "l=[]\n",
    "for i in range(1,n_terms):\n",
    "              a= recursive_fibonacci(i)\n",
    "              l.append(a*(-1))\n",
    "print(l)\n",
    "              \n",
    "              "
   ]
  },
  {
   "cell_type": "code",
   "execution_count": 19,
   "id": "1170b81b",
   "metadata": {},
   "outputs": [
    {
     "name": "stdout",
     "output_type": "stream",
     "text": [
      "Object `Recursion` not found.\n",
      "enter your number :23\n",
      "factorial of num is : 25852016738884976640000\n"
     ]
    }
   ],
   "source": [
    "2. Write a Python Program to Find Factorial of Number Using Recursion?\n",
    "def factorial(n):\n",
    "    if n==1:\n",
    "        return n\n",
    "    else:\n",
    "        return n*factorial(n-1)\n",
    "num =int(input(\"enter your number :\"))\n",
    "if num<0:\n",
    "    print(\"factorial is dr=efined for positive number only\")\n",
    "elif num==0:\n",
    "    print( \"factorial of {0} is 1 :\" )\n",
    "else:\n",
    "    print(\"factorial of num is :\", factorial(num))\n",
    "\n",
    "    "
   ]
  },
  {
   "cell_type": "code",
   "execution_count": 9,
   "id": "732367f0",
   "metadata": {},
   "outputs": [],
   "source": [
    "#3. Write a Python Program to calculate your Body Mass Index?\n",
    "def BMI(Height, weight):\n",
    "    Height = Height*0.3048 # converting feet into meter\n",
    "    return weight/(Height)**2\n"
   ]
  },
  {
   "cell_type": "code",
   "execution_count": 19,
   "id": "770460ad",
   "metadata": {},
   "outputs": [],
   "source": [
    "#4. Write a Python Program to calculate the natural logarithm of any number?\n",
    "import math\n",
    "def logn(n):\n",
    "    return math.log(n)"
   ]
  },
  {
   "cell_type": "code",
   "execution_count": 21,
   "id": "0447b056",
   "metadata": {},
   "outputs": [],
   "source": [
    "# 5. Write a Python Program for cube sum of first n natural numbers?\n",
    "def sumcube(n):\n",
    "    sum =0\n",
    "    for i in range(n+1):\n",
    "        sum =sum+i**3\n",
    "    return sum"
   ]
  },
  {
   "cell_type": "code",
   "execution_count": 24,
   "id": "34fa6901",
   "metadata": {},
   "outputs": [
    {
     "data": {
      "text/plain": [
       "2371600"
      ]
     },
     "execution_count": 24,
     "metadata": {},
     "output_type": "execute_result"
    }
   ],
   "source": []
  },
  {
   "cell_type": "code",
   "execution_count": null,
   "id": "b79bf3cf",
   "metadata": {},
   "outputs": [],
   "source": []
  }
 ],
 "metadata": {
  "kernelspec": {
   "display_name": "Python 3 (ipykernel)",
   "language": "python",
   "name": "python3"
  },
  "language_info": {
   "codemirror_mode": {
    "name": "ipython",
    "version": 3
   },
   "file_extension": ".py",
   "mimetype": "text/x-python",
   "name": "python",
   "nbconvert_exporter": "python",
   "pygments_lexer": "ipython3",
   "version": "3.9.7"
  }
 },
 "nbformat": 4,
 "nbformat_minor": 5
}
