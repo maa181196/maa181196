{
 "cells": [
  {
   "cell_type": "code",
   "execution_count": 28,
   "id": "f6e889d7",
   "metadata": {},
   "outputs": [],
   "source": [
    "#1. Write a Python Program to Add Two Matrices?\n",
    "import numpy as np\n",
    "def matrix_sum(n,m):\n",
    "    D=[]\n",
    "    E=[]\n",
    "    for i in range(m*n):\n",
    "        a=int(input(\"enter element :\"))\n",
    "        D.append(a)\n",
    "    for j in range(m*n):\n",
    "        b=int(input(\"enter your element: \"))\n",
    "        E.append(b)\n",
    "    matrix1=np.array(D).reshape(m,n)\n",
    "    matrix2= np.array(E).reshape(m,n)\n",
    "    print(\"your matrix1 :\\n\", matrix1 )\n",
    "    print(\"your matrix2 :\\n\", matrix2)\n",
    "    print(\" sum of two matrix :\\n \")\n",
    "    return matrix1 + matrix2\n",
    "              \n",
    "    \n",
    "        \n",
    "              \n",
    "    \n",
    "    "
   ]
  },
  {
   "cell_type": "code",
   "execution_count": 29,
   "id": "5e8ea104",
   "metadata": {},
   "outputs": [
    {
     "name": "stdout",
     "output_type": "stream",
     "text": [
      "enter element :1\n",
      "enter element :2\n",
      "enter element :3\n",
      "enter element :4\n",
      "enter element :5\n",
      "enter element :6\n",
      "enter element :7\n",
      "enter element :8\n",
      "enter element :9\n",
      "enter your element: 1\n",
      "enter your element: 2\n",
      "enter your element: 3\n",
      "enter your element: 4\n",
      "enter your element: 5\n",
      "enter your element: 6\n",
      "enter your element: 7\n",
      "enter your element: 8\n",
      "enter your element: 9\n",
      "your matrix1 :\n",
      " [[1 2 3]\n",
      " [4 5 6]\n",
      " [7 8 9]]\n",
      "your matrix2 :\n",
      " [[1 2 3]\n",
      " [4 5 6]\n",
      " [7 8 9]]\n"
     ]
    },
    {
     "data": {
      "text/plain": [
       "array([[ 2,  4,  6],\n",
       "       [ 8, 10, 12],\n",
       "       [14, 16, 18]])"
      ]
     },
     "execution_count": 29,
     "metadata": {},
     "output_type": "execute_result"
    }
   ],
   "source": [
    "matrix_sum(3,3)"
   ]
  },
  {
   "cell_type": "code",
   "execution_count": 81,
   "id": "43f4948a",
   "metadata": {},
   "outputs": [],
   "source": [
    "# 2. Write a Python Program to Multiply Two Matrices?\n",
    "import numpy as np\n",
    "def matrix_mutiply(n,m):\n",
    "    D=[]\n",
    "    E=[]\n",
    "    for i in range(m*n):\n",
    "        a=int(input(\"enter element :\"))\n",
    "        D.append(a)\n",
    "    for j in range(m*n):\n",
    "        b=int(input(\"enter your element: \"))\n",
    "        E.append(b)\n",
    "    A=np.array(D).reshape(n,m)\n",
    "    B= np.array(E).reshape(m,n)\n",
    "    result = [[sum(a* b for a, b in zip(A_row, B_col))\n",
    "                        for B_col in zip(*B)]\n",
    "                                for A_row in A]\n",
    "    for r in result:\n",
    "        print(r)\n",
    "                \n"
   ]
  },
  {
   "cell_type": "code",
   "execution_count": 82,
   "id": "5184aa80",
   "metadata": {},
   "outputs": [
    {
     "name": "stdout",
     "output_type": "stream",
     "text": [
      "enter element :1\n",
      "enter element :2\n",
      "enter element :3\n",
      "enter element :4\n",
      "enter element :5\n",
      "enter element :6\n",
      "enter element :7\n",
      "enter element :8\n",
      "enter element :9\n",
      "enter your element: 1\n",
      "enter your element: 2\n",
      "enter your element: 3\n",
      "enter your element: 4\n",
      "enter your element: 5\n",
      "enter your element: 6\n",
      "enter your element: 7\n",
      "enter your element: 8\n",
      "enter your element: 9\n",
      "[30, 36, 42]\n",
      "[66, 81, 96]\n",
      "[102, 126, 150]\n"
     ]
    }
   ],
   "source": [
    "matrix_mutiply(3,3)"
   ]
  },
  {
   "cell_type": "code",
   "execution_count": 84,
   "id": "27b36c00",
   "metadata": {},
   "outputs": [],
   "source": [
    "# 3. Write a Python Program to Transpose a Matrix?\n",
    "import numpy as np\n",
    "\n",
    "def matrix_transpose(n,m):\n",
    "    D=[]\n",
    "    for i in range(m*n):\n",
    "        a=int(input(\"enter element :\"))\n",
    "        D.append(a)\n",
    "    matrix=np.array(D).reshape(m,n)\n",
    "    return matrix.T"
   ]
  },
  {
   "cell_type": "code",
   "execution_count": 69,
   "id": "c3f1d353",
   "metadata": {},
   "outputs": [
    {
     "data": {
      "text/plain": [
       "array([[0., 0., 0.],\n",
       "       [0., 0., 0.],\n",
       "       [0., 0., 0.]])"
      ]
     },
     "execution_count": 69,
     "metadata": {},
     "output_type": "execute_result"
    }
   ],
   "source": [
    "#4. Write a Python Program to Sort Words in Alphabetic Order?\n"
   ]
  },
  {
   "cell_type": "code",
   "execution_count": 107,
   "id": "db9c607a",
   "metadata": {},
   "outputs": [],
   "source": [
    "def sort_word(input1):\n",
    "    if type(input1)==str:\n",
    "        b=input1.split(\" \")\n",
    "        b.sort()\n",
    "        for i in b:\n",
    "            print(i)\n",
    "    else:\n",
    "        pass\n",
    "    return \"string sorted\"\n",
    "    \n",
    "\n",
    "        "
   ]
  },
  {
   "cell_type": "code",
   "execution_count": 108,
   "id": "bf24b316",
   "metadata": {},
   "outputs": [
    {
     "name": "stdout",
     "output_type": "stream",
     "text": [
      "\n",
      "a\n",
      "book\n",
      "is\n",
      "this\n"
     ]
    },
    {
     "data": {
      "text/plain": [
       "'string sorted'"
      ]
     },
     "execution_count": 108,
     "metadata": {},
     "output_type": "execute_result"
    }
   ],
   "source": [
    "sort_word(\"this is a book \")"
   ]
  },
  {
   "cell_type": "code",
   "execution_count": 34,
   "id": "4957eb64",
   "metadata": {},
   "outputs": [],
   "source": [
    "#5. Write a Python Program to Remove Punctuation From a String?\n",
    "def removep():\n",
    "    punc = '''!()-[]{};:'\"\\,<>./?@#$%^&*_~'''\n",
    "    a=input(\"enter your string\")\n",
    "    for i in a:\n",
    "        for j in punc:\n",
    "            if i==j:\n",
    "                a=a.replace( i,\"\")\n",
    "    return a\n",
    "            \n"
   ]
  },
  {
   "cell_type": "code",
   "execution_count": 36,
   "id": "c6036991",
   "metadata": {},
   "outputs": [
    {
     "name": "stdout",
     "output_type": "stream",
     "text": [
      "enter your stringghdthfsn32/?][[()fdgh43_\n"
     ]
    },
    {
     "data": {
      "text/plain": [
       "'ghdthfsn32fdgh43'"
      ]
     },
     "execution_count": 36,
     "metadata": {},
     "output_type": "execute_result"
    }
   ],
   "source": [
    "removep()"
   ]
  },
  {
   "cell_type": "code",
   "execution_count": 29,
   "id": "0de60c54",
   "metadata": {},
   "outputs": [
    {
     "name": "stdout",
     "output_type": "stream",
     "text": [
      ".\n",
      "?\n",
      "!\n",
      ",\n",
      ":\n",
      ";\n",
      "_\n",
      "-\n",
      "()\n",
      "[]\n",
      "/\n",
      "\"\"\n",
      "''\n",
      "....\n"
     ]
    }
   ],
   "source": []
  },
  {
   "cell_type": "code",
   "execution_count": 31,
   "id": "8d41d9a4",
   "metadata": {},
   "outputs": [
    {
     "name": "stdout",
     "output_type": "stream",
     "text": [
      "r\n",
      "a\n",
      "n\n",
      "[\n",
      "]\n"
     ]
    }
   ],
   "source": [
    "a= \"ran[]\"\n",
    "for i in a :\n",
    "    print(i)"
   ]
  },
  {
   "cell_type": "code",
   "execution_count": null,
   "id": "3d07e818",
   "metadata": {},
   "outputs": [],
   "source": []
  }
 ],
 "metadata": {
  "kernelspec": {
   "display_name": "Python 3 (ipykernel)",
   "language": "python",
   "name": "python3"
  },
  "language_info": {
   "codemirror_mode": {
    "name": "ipython",
    "version": 3
   },
   "file_extension": ".py",
   "mimetype": "text/x-python",
   "name": "python",
   "nbconvert_exporter": "python",
   "pygments_lexer": "ipython3",
   "version": "3.9.7"
  }
 },
 "nbformat": 4,
 "nbformat_minor": 5
}
